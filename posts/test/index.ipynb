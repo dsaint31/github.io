{
 "cells": [
  {
   "cell_type": "markdown",
   "id": "900ac884",
   "metadata": {},
   "source": [
    "# Nikola and Jupyter Notebook Test\n",
    "\n",
    "jupyter notebook의 자료 공유를 위한 테스트임."
   ]
  },
  {
   "cell_type": "markdown",
   "id": "09165fa8-b3e9-46c7-9a6a-9b963560a43b",
   "metadata": {},
   "source": [
    "수식 text\n",
    "\n",
    "$$f(x) =\\sum^N_{i=1} g(x)$$"
   ]
  },
  {
   "cell_type": "code",
   "execution_count": 2,
   "id": "cf9f3e3a-6000-4050-9bb5-430d874981f6",
   "metadata": {},
   "outputs": [
    {
     "name": "stdout",
     "output_type": "stream",
     "text": [
      "hello, Nikola and Jupyter\n"
     ]
    }
   ],
   "source": [
    "print('hello, Nikola and Jupyter')"
   ]
  },
  {
   "cell_type": "code",
   "execution_count": null,
   "id": "2d5a6359-0190-40e6-959b-84a3595b3151",
   "metadata": {},
   "outputs": [],
   "source": []
  }
 ],
 "metadata": {
  "kernelspec": {
   "display_name": "Python 3 (ipykernel)",
   "language": "python",
   "name": "python3"
  },
  "language_info": {
   "codemirror_mode": {
    "name": "ipython",
    "version": 3
   },
   "file_extension": ".py",
   "mimetype": "text/x-python",
   "name": "python",
   "nbconvert_exporter": "python",
   "pygments_lexer": "ipython3",
   "version": "3.11.4"
  },
  "nikola": {
   "category": "",
   "date": "2023-08-10 11:47:46 UTC+09:00",
   "description": "",
   "link": "",
   "slug": "test",
   "tags": "",
   "title": "test",
   "type": "text"
  }
 },
 "nbformat": 4,
 "nbformat_minor": 5
}
